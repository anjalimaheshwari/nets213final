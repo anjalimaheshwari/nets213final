{
  "nbformat": 4,
  "nbformat_minor": 0,
  "metadata": {
    "colab": {
      "name": "simple_aggregation.ipynb",
      "provenance": [],
      "collapsed_sections": []
    },
    "kernelspec": {
      "name": "python3",
      "display_name": "Python 3"
    },
    "language_info": {
      "name": "python"
    }
  },
  "cells": [
    {
      "cell_type": "code",
      "metadata": {
        "id": "fLq9WDJF8zJ3"
      },
      "source": [
        "import pandas as pd\n",
        "import numpy as np"
      ],
      "execution_count": 1,
      "outputs": []
    },
    {
      "cell_type": "code",
      "metadata": {
        "id": "ZNKhCDBB86KM"
      },
      "source": [
        "df = pd.read_csv(\"aggregation_sample_input.csv\")"
      ],
      "execution_count": 8,
      "outputs": []
    },
    {
      "cell_type": "code",
      "metadata": {
        "id": "xTQHh1Nn9eH0"
      },
      "source": [
        "df_mean = df.groupby([\"model\"], as_index=False)[\"rating\"].mean()"
      ],
      "execution_count": 9,
      "outputs": []
    },
    {
      "cell_type": "code",
      "metadata": {
        "id": "NYKwD5Nh-FIR"
      },
      "source": [
        "df_ranked = df_mean.sort_values('rating', ascending=False)"
      ],
      "execution_count": 12,
      "outputs": []
    },
    {
      "cell_type": "code",
      "metadata": {
        "id": "zT31h9s2-ZoB"
      },
      "source": [
        "df_ranked.to_csv('aggregation_sample_output.csv', index=False)"
      ],
      "execution_count": 14,
      "outputs": []
    }
  ]
}